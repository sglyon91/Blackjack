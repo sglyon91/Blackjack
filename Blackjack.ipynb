{
 "cells": [
  {
   "cell_type": "markdown",
   "metadata": {},
   "source": [
    "# Blackjack Strategies and Applications\n",
    "### By: Sam Lyon"
   ]
  },
  {
   "cell_type": "markdown",
   "metadata": {},
   "source": [
    "### 1. Abstract\n",
    "\n",
    "Blackjack is a widely popular and ostensibly simple card game that appears at nearly every American casino. Despite its perceived simplicity, there are a number of strategies one can take to improve one's odds against the dealer, who, by design, has the natural advantage.\n",
    "\n",
    "Given a list of assumptions that I outline in the \"Background\" section below, I explore some of these strategies throughtout this project. As one might expect, the more advanced the strategy, the more likely it is to beat the dealer. Here I will define \"advanced\" as: the player incorporates additional facets of the game beyond \"hit\" and \"stay\" and/or the player strategically bases each decision on the specific cards he holds as well as the one card the dealer has showing.\n",
    "\n",
    "This project assumes a basic understanding of the rules of blackjack. This site will be helpful to fill in any gaps:\n",
    "https://bicyclecards.com/how-to-play/blackjack/#:~:text=If%20a%20player's%20first%20two,the%20amount%20of%20their%20bet."
   ]
  },
  {
   "cell_type": "markdown",
   "metadata": {},
   "source": [
    "### 2. Background\n",
    "\n",
    "Here are some assumptions I used for the project.\n",
    "\n",
    "1. The game uses one deck of cards, which is reshuffled after each game iteration.\n",
    "2. Cards are taken from this deck without replacement until the deck is reshuffled.\n",
    "3. The dealer abides by the usual rules.\n",
    "4. The player uses various strategies which I will outline as they come up.\n",
    "\n",
    "I used a list of 52 integers to represent the deck, with each integer corresponding to one of the 52 cards in a standard deck. I utilized functions from the random package to randomly select cards as necessary.\n",
    "\n",
    "I'll explain some of the necessary component functions and then proceed to the strategies."
   ]
  },
  {
   "cell_type": "markdown",
   "metadata": {},
   "source": [
    "### 3. Main Findings"
   ]
  },
  {
   "cell_type": "code",
   "execution_count": 1,
   "metadata": {},
   "outputs": [],
   "source": [
    "import random"
   ]
  },
  {
   "cell_type": "code",
   "execution_count": 2,
   "metadata": {},
   "outputs": [],
   "source": [
    "def hit(cards):\n",
    "    new_card = random.choice(l_new)\n",
    "    cards.append(new_card)\n",
    "    l_new.remove(new_card)\n",
    "    return cards"
   ]
  },
  {
   "cell_type": "markdown",
   "metadata": {},
   "source": [
    "The **hit** function takes as input a list of cards corresponding to the dealer or player's hand. It selects at random a card from the deck, adds it to the hand, and then removes that card from the deck."
   ]
  },
  {
   "cell_type": "code",
   "execution_count": 3,
   "metadata": {},
   "outputs": [],
   "source": [
    "def ace_change(cards):\n",
    "    if 11 in cards:\n",
    "        cards.remove(11)\n",
    "        cards.append(1)\n",
    "        return cards\n",
    "    else:\n",
    "        return cards"
   ]
  },
  {
   "cell_type": "markdown",
   "metadata": {},
   "source": [
    "The **ace_change** function takes a hand of cards, removes an 11 if there is one, and replaces the 11 with a 1. If there is no 11, the hand is returned untouched."
   ]
  },
  {
   "cell_type": "code",
   "execution_count": 4,
   "metadata": {},
   "outputs": [],
   "source": [
    "def compare(pc, dc, b):\n",
    "    if isinstance(pc, list):\n",
    "        return compare(pc[0], dc, b * 2)\n",
    "    elif pc == \"Bust\":\n",
    "        return -b\n",
    "    elif dc == \"BJ\":\n",
    "        if dc == pc:\n",
    "            return 0\n",
    "        else:\n",
    "            return -b\n",
    "    elif pc == \"BJ\":\n",
    "        if dc != pc:\n",
    "            return 1.5 * b\n",
    "        else:\n",
    "            return 0\n",
    "    elif dc == \"Bust\":\n",
    "        return b\n",
    "    elif pc == dc:\n",
    "        return 0\n",
    "    elif pc > dc:\n",
    "        return b\n",
    "    else:\n",
    "        return -b"
   ]
  },
  {
   "cell_type": "markdown",
   "metadata": {},
   "source": [
    "The **compare** function takes as input the following variables. \n",
    "\n",
    "1. pc: The integer value of the sum of the player's cards. Could also be valued as \"Bust\" (if cards' sum over 21) or \"BJ\" (blackjack)\n",
    "\n",
    "2. dc: The integer value of the sum of the dealer's cards. Could also be valued as \"Bust\" (if cards' sum over 21) or \"BJ\" (blackjack)\n",
    "\n",
    "3. b: The amount the player bet on the hand.\n",
    "\n",
    "The **compare** function returns the amount of money the player gained or lost on the hand."
   ]
  },
  {
   "cell_type": "code",
   "execution_count": 5,
   "metadata": {},
   "outputs": [],
   "source": [
    "def double(cards):\n",
    "    hc = hit(cards)\n",
    "    spc = sum(hc)\n",
    "    if spc > 21:\n",
    "        acc = sum(ace_change(hc))\n",
    "        if acc > 21:\n",
    "            spc = \"Bust\"\n",
    "    return compare([spc], d_hand, bet)"
   ]
  },
  {
   "cell_type": "markdown",
   "metadata": {},
   "source": [
    "The **double** function hits a hand once and then sends the sum of the cards to the **compare** function. If the sum is over 21 after an **ace_change**, the sum is assigned a value of \"Bust\". The sum is encased in a list to show that it has been through the **double** function."
   ]
  },
  {
   "cell_type": "code",
   "execution_count": 6,
   "metadata": {},
   "outputs": [],
   "source": [
    "def split(cards):\n",
    "    return player_hand_advanced(hit([cards[0]])), player_hand_advanced(hit([cards[1]]))\n",
    "\n",
    "def split_m(cards):\n",
    "    return player_hand_medium(hit([cards[0]])), player_hand_medium(hit([cards[1]]))"
   ]
  },
  {
   "cell_type": "markdown",
   "metadata": {},
   "source": [
    "There are two **split** functions, one for the advanced player strategy, and one for the medium player strategy. These functions take as input a hand, and then use each card of the original hand to create a new hand. These two new hands are then run through the appropriate strategy."
   ]
  },
  {
   "cell_type": "code",
   "execution_count": 7,
   "metadata": {},
   "outputs": [],
   "source": [
    "def dealer_hand(dealers_cards):\n",
    "    sdc = sum(dealers_cards)\n",
    "    if sdc == 21 and len(dealers_cards) == 2:\n",
    "        return \"BJ\"\n",
    "    elif sdc > 21:\n",
    "        acd = ace_change(dealers_cards)\n",
    "        if sum(acd) <= 21:\n",
    "            return dealer_hand(acd)\n",
    "        else:\n",
    "            return \"Bust\"\n",
    "    elif sdc < 17:\n",
    "        return dealer_hand(hit(dealers_cards))\n",
    "    else:\n",
    "        return sdc"
   ]
  },
  {
   "cell_type": "markdown",
   "metadata": {},
   "source": [
    "The **dealer_hand** function takes as input a hand of cards, processes this hand according to the usual dealer rules, and then returns the sum of the cards."
   ]
  },
  {
   "cell_type": "code",
   "execution_count": 8,
   "metadata": {},
   "outputs": [],
   "source": [
    "def player_hand_advanced(players_cards):\n",
    "    spc = sum(players_cards)\n",
    "    if spc == 21 and len(players_cards) == 2:\n",
    "        spc = \"BJ\"\n",
    "        return compare(spc, d_hand, bet)\n",
    "    elif spc > 21:\n",
    "        acp = ace_change(players_cards)\n",
    "        if players_cards == [11,11]:\n",
    "            return split(players_cards)\n",
    "        elif sum(acp) <= 21:\n",
    "            players_cards = acp\n",
    "            return player_hand_advanced(players_cards)  \n",
    "        else:\n",
    "            spc = \"Bust\"\n",
    "            return compare(spc, d_hand, bet)\n",
    "    elif spc >= 17:\n",
    "        if spc >= 19:\n",
    "            return compare(spc, d_hand, bet)\n",
    "        elif 11 not in players_cards:\n",
    "            if players_cards == [9,9] and (dealer_cards[0] not in [7,10,11]):\n",
    "                return split(players_cards)\n",
    "            else:\n",
    "                return compare(spc, d_hand, bet)\n",
    "        else:\n",
    "            if spc == 18:\n",
    "                if dealer_cards[0] in [2,7,8]:\n",
    "                    return compare(spc, d_hand, bet)\n",
    "                elif dealer_cards[0] in [3,4,5,6]:\n",
    "                    return double(players_cards)\n",
    "                else:\n",
    "                    return player_hand_advanced(hit(players_cards))\n",
    "            else:\n",
    "                if dealer_cards[0] in [3,4,5,6]:\n",
    "                    return double(players_cards)\n",
    "                else:\n",
    "                    return player_hand_advanced(hit(players_cards))\n",
    "    elif spc >= 13:\n",
    "        if players_cards == [7,7]:\n",
    "            if dealer_cards[0] in [8,9,10,11]:\n",
    "                return player_hand_advanced(hit(players_cards))\n",
    "            else:\n",
    "                return split(players_cards)\n",
    "        if players_cards == [8,8]:\n",
    "            return split(players_cards)\n",
    "        elif 11 not in players_cards:\n",
    "            if dealer_cards[0] in [2,3,4,5,6]:\n",
    "                return compare(spc, d_hand, bet)\n",
    "            else:\n",
    "                return player_hand_advanced(hit(players_cards))\n",
    "        else:\n",
    "            if spc >= 15:\n",
    "                if dealer_cards[0] in [4,5,6]:\n",
    "                    return double(players_cards)\n",
    "                else:\n",
    "                    return player_hand_advanced(hit(players_cards))\n",
    "            else:\n",
    "                if dealer_cards[0] in [5,6]:\n",
    "                    return double(players_cards)\n",
    "                else:\n",
    "                    return player_hand_advanced(hit(players_cards))\n",
    "    elif spc == 12:\n",
    "        if players_cards != [6,6]:\n",
    "            if dealer_cards[0] in [4,5,6]:\n",
    "                return compare(spc, d_hand, bet)\n",
    "            else:\n",
    "                return player_hand_advanced(hit(players_cards))\n",
    "        else:\n",
    "            if dealer_cards[0] in [2,3,4,5,6]:\n",
    "                return split(players_cards)\n",
    "            else:\n",
    "                return player_hand_advanced(hit(players_cards))\n",
    "    elif spc >= 9:\n",
    "        if spc == 11:\n",
    "            if dealer_cards[0] == 11:\n",
    "                return player_hand_advanced(hit(players_cards))\n",
    "            else:\n",
    "                return double(players_cards)\n",
    "        elif spc == 10:\n",
    "            if dealer_cards[0] in [10,11]:\n",
    "                return player_hand_advanced(hit(players_cards))\n",
    "            else:\n",
    "                return double(players_cards)\n",
    "        else:\n",
    "            if dealer_cards[0] in [3,4,5,6]:\n",
    "                return double(players_cards)\n",
    "            else:\n",
    "                return player_hand_advanced(hit(players_cards)) \n",
    "    elif players_cards[0] == players_cards[1] and len(players_cards) == 2:\n",
    "        if players_cards == [4,4]:\n",
    "            if dealer_cards[0] in [5,6]:\n",
    "                return split(players_cards)\n",
    "            else:\n",
    "                return player_hand_advanced(hit(players_cards))\n",
    "        else:\n",
    "            if dealer_cards[0] in [8,9,10,11]:\n",
    "                return player_hand_advanced(hit(players_cards))\n",
    "            else:\n",
    "                return split(players_cards)\n",
    "    else:\n",
    "        return player_hand_advanced(hit(players_cards))\n",
    "                "
   ]
  },
  {
   "cell_type": "markdown",
   "metadata": {},
   "source": [
    "The **player_hand_advanced** function takes as input a hand of cards and processes it according to the Advanced Blackjack Strategy Table at the following URL: http://www.top5onlinecasino.ca/casino-games/blackjack/strategy/. It eventually sends the cards to the **compare** function described above. This strategy utilizes hits, stays, doubles, and splits; these choices are based on the cards the player currently holds and the visble card of the dealer."
   ]
  },
  {
   "cell_type": "code",
   "execution_count": 9,
   "metadata": {},
   "outputs": [],
   "source": [
    "def list_breaker(z):\n",
    "    if type(z) == int or type(z) == float:\n",
    "        cl.append(z)\n",
    "    else:\n",
    "        for j in z:\n",
    "            if isinstance(j, list) or isinstance(j, tuple):\n",
    "                list_breaker(j)\n",
    "            else:\n",
    "                cl.append(j)"
   ]
  },
  {
   "cell_type": "markdown",
   "metadata": {},
   "source": [
    "The **list_breaker** function is used with the advanced and medium strategies (it helps with the **split** functions). It removes numbers from lists/tuples so that the numbers may be individually appended to another list."
   ]
  },
  {
   "cell_type": "code",
   "execution_count": 10,
   "metadata": {},
   "outputs": [],
   "source": [
    "def player_hand_medium(players_cards):\n",
    "    spc = sum(players_cards)\n",
    "    if spc == 21 and len(players_cards) == 2:\n",
    "        spc = \"BJ\"\n",
    "        return compare(spc, d_hand, bet)\n",
    "    elif spc > 21:\n",
    "        acp = ace_change(players_cards)\n",
    "        if players_cards == [11,11]:\n",
    "            return split_m(players_cards)\n",
    "        elif sum(acp) <= 21:\n",
    "            players_cards = acp\n",
    "            return player_hand_medium(players_cards)  \n",
    "        else:\n",
    "            spc = \"Bust\"\n",
    "            return compare(spc, d_hand, bet)\n",
    "    elif spc >= 17:\n",
    "        if spc >= 19:\n",
    "            return compare(spc, d_hand, bet)\n",
    "        elif 11 not in players_cards:\n",
    "            if players_cards == [9,9] and (dealer_cards[0] not in [7,10,11]):\n",
    "                return split_m(players_cards)\n",
    "            else:\n",
    "                return compare(spc, d_hand, bet)\n",
    "        else:\n",
    "            if spc == 18:\n",
    "                if dealer_cards[0] in [2,7,8]:\n",
    "                    return compare(spc, d_hand, bet)\n",
    "                else:\n",
    "                    return player_hand_medium(hit(players_cards))\n",
    "            else:\n",
    "                return player_hand_medium(hit(players_cards))\n",
    "    elif spc >= 13:\n",
    "        if players_cards == [7,7]:\n",
    "            if dealer_cards[0] in [8,9,10,11]:\n",
    "                return player_hand_medium(hit(players_cards))\n",
    "            else:\n",
    "                return split_m(players_cards)\n",
    "        if players_cards == [8,8]:\n",
    "            return split_m(players_cards)\n",
    "        elif 11 not in players_cards:\n",
    "            if dealer_cards[0] in [2,3,4,5,6]:\n",
    "                return compare(spc, d_hand, bet)\n",
    "            else:\n",
    "                return player_hand_medium(hit(players_cards))\n",
    "        else:\n",
    "            return player_hand_medium(hit(players_cards))\n",
    "    elif spc == 12:\n",
    "        if players_cards != [6,6]:\n",
    "            if dealer_cards[0] in [4,5,6]:\n",
    "                return compare(spc, d_hand, bet)\n",
    "            else:\n",
    "                return player_hand_medium(hit(players_cards))\n",
    "        else:\n",
    "            if dealer_cards[0] in [2,3,4,5,6]:\n",
    "                return split_m(players_cards)\n",
    "            else:\n",
    "                return player_hand_medium(hit(players_cards))\n",
    "    elif players_cards[0] == players_cards[1] and len(players_cards) == 2:\n",
    "        if players_cards == [4,4]:\n",
    "            if dealer_cards[0] in [5,6]:\n",
    "                return split_m(players_cards)\n",
    "            else:\n",
    "                return player_hand_medium(hit(players_cards))\n",
    "        else:\n",
    "            if dealer_cards[0] in [8,9,10,11]:\n",
    "                return player_hand_medium(hit(players_cards))\n",
    "            else:\n",
    "                return split_m(players_cards)\n",
    "    else:\n",
    "        return player_hand_medium(hit(players_cards))"
   ]
  },
  {
   "cell_type": "markdown",
   "metadata": {},
   "source": [
    "The **player_hand_medium** function does the same thing as the **player_hand_advanced** function, except there are no doubles. Each double has been replaced with a hit."
   ]
  },
  {
   "cell_type": "code",
   "execution_count": 11,
   "metadata": {},
   "outputs": [],
   "source": [
    "def player_hand_basic(players_cards):\n",
    "    spc = sum(players_cards)\n",
    "    if spc == 21 and len(players_cards) == 2:\n",
    "        spc = \"BJ\"\n",
    "        return compare(spc, d_hand, bet)\n",
    "    elif spc > 21:\n",
    "        acp = ace_change(players_cards)\n",
    "        if sum(acp) <= 21:\n",
    "            return player_hand_basic(acp)\n",
    "        else:\n",
    "            spc = \"Bust\"\n",
    "            return compare(spc, d_hand, bet)\n",
    "    elif spc < 17:\n",
    "        return player_hand_basic(hit(players_cards))\n",
    "    else:\n",
    "        return compare(spc, d_hand, bet)"
   ]
  },
  {
   "cell_type": "markdown",
   "metadata": {},
   "source": [
    "The **player_hand_basic** function uses the same strategy as the **dealer_hand function**."
   ]
  },
  {
   "cell_type": "markdown",
   "metadata": {},
   "source": [
    "------------------------------------------------------"
   ]
  },
  {
   "cell_type": "markdown",
   "metadata": {},
   "source": [
    "Below, I try out each of the strategies. For each strategy, I use a for loop with 100000 iterations; each iteration is generally equivalent to one hand for the dealer and one hand for the player, although sometimes a player is granted an additonal hand(s) in a given iteration through splitting. Within each iteration, I create a new deck of cards and randomly sample as necessary, each time without setting a seed. This makes each iteration independent of the others.\n",
    "\n",
    "I use a starter bet = 10 for each hand, but this bet can change depending on what happens in that hand (e.g. a double increases the bet to 20). The result of each hand (i.e. the amount of money the player won) is appended to a list, and after the 100000 iterations are complete, the sum of the list is calculated. This shows, for each strategy, how much money the player would expect to make after 100000 iterations. I then calculate the expected value of each strategy by dividing the sum by the number of hands. Each output below is the sum followed by the expected value."
   ]
  },
  {
   "cell_type": "code",
   "execution_count": 12,
   "metadata": {},
   "outputs": [
    {
     "name": "stdout",
     "output_type": "stream",
     "text": [
      "45885.0\n",
      "0.45111340510249226\n"
     ]
    }
   ],
   "source": [
    "#Player_hand_advanced\n",
    "\n",
    "cl = []\n",
    "reps = 100000\n",
    "for i in range(reps):\n",
    "    l = []\n",
    "    for i in range(2,15):\n",
    "        l.extend([i,i,i,i])\n",
    "    l_new = [10 if x >=11 and x <14 else 11 if x == 14 else x for x in l]\n",
    "\n",
    "    start_cards = random.sample(l_new, 4)\n",
    "    your_cards = start_cards[0:2]\n",
    "    dealer_cards = start_cards[2:]\n",
    "    for i in start_cards:\n",
    "        l_new.remove(i)\n",
    "    \n",
    "    d_hand = dealer_hand(dealer_cards)\n",
    "    bet = 10\n",
    "    pha = player_hand_advanced(your_cards)\n",
    "    \n",
    "    list_breaker(pha)\n",
    "\n",
    "s = sum(cl)\n",
    "ev = s / len(cl)\n",
    "print(s)\n",
    "print(ev)"
   ]
  },
  {
   "cell_type": "code",
   "execution_count": 13,
   "metadata": {},
   "outputs": [
    {
     "name": "stdout",
     "output_type": "stream",
     "text": [
      "-23290.0\n",
      "-0.22844755711188927\n"
     ]
    }
   ],
   "source": [
    "#Player_hand_medium\n",
    "\n",
    "cl = []\n",
    "reps = 100000\n",
    "for i in range(reps):\n",
    "    l = []\n",
    "    for i in range(2,15):\n",
    "        l.extend([i,i,i,i])\n",
    "    l_new = [10 if x >=11 and x <14 else 11 if x == 14 else x for x in l]\n",
    "\n",
    "    start_cards = random.sample(l_new, 4)\n",
    "    your_cards = start_cards[0:2]\n",
    "    dealer_cards = start_cards[2:]\n",
    "    for i in start_cards:\n",
    "        l_new.remove(i)\n",
    "    \n",
    "    d_hand = dealer_hand(dealer_cards)\n",
    "    bet = 10\n",
    "    phm = player_hand_medium(your_cards)\n",
    "    \n",
    "    list_breaker(phm)\n",
    "\n",
    "s = sum(cl)\n",
    "ev = s / len(cl)\n",
    "print(s)\n",
    "print(ev)"
   ]
  },
  {
   "cell_type": "code",
   "execution_count": 14,
   "metadata": {},
   "outputs": [
    {
     "name": "stdout",
     "output_type": "stream",
     "text": [
      "-63555.0\n",
      "-0.63555\n"
     ]
    }
   ],
   "source": [
    "#Player_hand_basic\n",
    "\n",
    "cl = []\n",
    "reps = 100000\n",
    "for i in range(reps):\n",
    "    l = []\n",
    "    for i in range(2,15):\n",
    "        l.extend([i,i,i,i])\n",
    "    l_new = [10 if x >=11 and x <14 else 11 if x == 14 else x for x in l]\n",
    "\n",
    "    start_cards = random.sample(l_new, 4)\n",
    "    your_cards = start_cards[0:2]\n",
    "    dealer_cards = start_cards[2:]\n",
    "    for i in start_cards:\n",
    "        l_new.remove(i)\n",
    "    \n",
    "    d_hand = dealer_hand(dealer_cards)\n",
    "    bet = 10\n",
    "    phb = player_hand_basic(your_cards)\n",
    "    \n",
    "    cl.append(phb)\n",
    "\n",
    "s = sum(cl)\n",
    "ev = s / len(cl)\n",
    "print(s)\n",
    "print(ev)"
   ]
  },
  {
   "cell_type": "markdown",
   "metadata": {},
   "source": [
    "As expected, the advanced strategy is the best, followed by the middle strategy, with the basic strategy bringing up the rear. The advanced strategy is the only one out of the three that nets positive returns in the long run."
   ]
  },
  {
   "cell_type": "markdown",
   "metadata": {},
   "source": [
    "### Conclusions\n",
    "\n",
    "My findings were mostly what I expected, i.e. that the advanced strategy would net the best long term result for the player. What I did not necessarily expect is that the advanced strategy would net a long term result greater than zero. This may be due to my assumptions, which are not standard across casinos. For example, many casinos these days use multiple decks instead of one, and they may also use a different shuffling methodology. In a future project, I could explore these potentialities along with the player's ability to count cards."
   ]
  },
  {
   "cell_type": "code",
   "execution_count": null,
   "metadata": {},
   "outputs": [],
   "source": []
  }
 ],
 "metadata": {
  "kernelspec": {
   "display_name": "Python 3",
   "language": "python",
   "name": "python3"
  },
  "language_info": {
   "codemirror_mode": {
    "name": "ipython",
    "version": 3
   },
   "file_extension": ".py",
   "mimetype": "text/x-python",
   "name": "python",
   "nbconvert_exporter": "python",
   "pygments_lexer": "ipython3",
   "version": "3.7.4"
  }
 },
 "nbformat": 4,
 "nbformat_minor": 2
}
